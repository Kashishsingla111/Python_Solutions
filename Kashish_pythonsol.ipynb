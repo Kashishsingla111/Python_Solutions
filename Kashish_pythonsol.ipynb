{
  "nbformat": 4,
  "nbformat_minor": 0,
  "metadata": {
    "colab": {
      "provenance": [],
      "authorship_tag": "ABX9TyOPp42bCteIjMTXUlZkX9Gd",
      "include_colab_link": true
    },
    "kernelspec": {
      "name": "python3",
      "display_name": "Python 3"
    },
    "language_info": {
      "name": "python"
    }
  },
  "cells": [
    {
      "cell_type": "markdown",
      "metadata": {
        "id": "view-in-github",
        "colab_type": "text"
      },
      "source": [
        "<a href=\"https://colab.research.google.com/github/Kashishsingla111/Python_Solutions/blob/main/Kashish_pythonsol.ipynb\" target=\"_parent\"><img src=\"https://colab.research.google.com/assets/colab-badge.svg\" alt=\"Open In Colab\"/></a>"
      ]
    },
    {
      "cell_type": "code",
      "execution_count": 12,
      "metadata": {
        "colab": {
          "base_uri": "https://localhost:8080/"
        },
        "id": "92vRWRuhWMsq",
        "outputId": "13e3db1e-7f15-4c23-a164-1e2cbf7f4394"
      },
      "outputs": [
        {
          "output_type": "stream",
          "name": "stdout",
          "text": [
            "[11, 12, 13, 14]\n",
            "[11, 12, 13, 14, 50, 60]\n",
            "[12, 13, 50, 60]\n",
            "[12, 13, 50, 60]\n",
            "[60, 50, 13, 12]\n",
            "True\n",
            "Present\n",
            "Sum of elements in L: 135\n",
            "Sum of odd numbers in L: 13\n",
            "Sum of even numbers in L: 122\n",
            "Sum of prime numbers in L: 13\n",
            "[]\n"
          ]
        }
      ],
      "source": [
        "#1 ques\n",
        "L=[11, 12, 13, 14]\n",
        "print(L)\n",
        "#1\n",
        "L.append(50)\n",
        "L.append(60)\n",
        "print(L)\n",
        "#2\n",
        "del L[0]\n",
        "del L[2]\n",
        "print(L)\n",
        "#3\n",
        "L.sort()\n",
        "print(L)\n",
        "#4\n",
        "L.sort(reverse=True)\n",
        "print(L)\n",
        "#5\n",
        "print(13 in L)\n",
        "if (13 in L)==True:\n",
        "  print(\"Present\")\n",
        "#6\n",
        "len(L)\n",
        "#7\n",
        "soe = sum(L)\n",
        "print(\"Sum of elements in L:\", soe)\n",
        "#8\n",
        "soo = sum([num for num in L if num % 2 != 0])\n",
        "print(\"Sum of odd numbers in L:\", soo)\n",
        "#9\n",
        "soev = sum([num for num in L if num % 2 == 0])\n",
        "print(\"Sum of even numbers in L:\", soev)\n",
        "#10\n",
        "def is_prime(num):\n",
        "    if num < 2:\n",
        "        return False\n",
        "    for i in range(2, num//2 + 1):\n",
        "        if num % i == 0:\n",
        "            return False\n",
        "    return True\n",
        "sop = sum([num for num in L if is_prime(num)])\n",
        "print(\"Sum of prime numbers in L:\", sop)\n",
        "#11\n",
        "L.clear()\n",
        "print(L)\n",
        "#12\n",
        "del L\n",
        "#print(L)"
      ]
    },
    {
      "cell_type": "code",
      "source": [
        "#2 ques\n",
        "D={1: 5.6, 2: 7.8, 3: 6.6, 4: 8.7, 5: 7.7}\n",
        "D[8] = 8.8          #1\n",
        "print(D)\n",
        "\n",
        "del D[2]            #2\n",
        "print(D)\n",
        "\n",
        "if 6 in D:          #3\n",
        "    print(\"Key 6 is present in D\")\n",
        "else:\n",
        "    print(\"Key 6 is not present in D\")\n",
        "\n",
        "len(D)              #4    \n",
        "\n",
        "sumofv = sum(D.values())          #5\n",
        "print(\"Sum of values in D:\", sumofv)\n",
        "\n",
        "D[3] = 7.1          #6\n",
        "print(D)\n",
        "\n",
        "D.clear()           #7\n",
        "print(D)\n",
        "\n"
      ],
      "metadata": {
        "colab": {
          "base_uri": "https://localhost:8080/"
        },
        "id": "AjzZtIxraPfD",
        "outputId": "e85926c8-6f31-436d-898d-60ec984a3d42"
      },
      "execution_count": 14,
      "outputs": [
        {
          "output_type": "stream",
          "name": "stdout",
          "text": [
            "{1: 5.6, 2: 7.8, 3: 6.6, 4: 8.7, 5: 7.7, 8: 8.8}\n",
            "{1: 5.6, 3: 6.6, 4: 8.7, 5: 7.7, 8: 8.8}\n",
            "Key 6 is not present in D\n",
            "Sum of values in D: 37.4\n",
            "{1: 5.6, 3: 7.1, 4: 8.7, 5: 7.7, 8: 8.8}\n",
            "{}\n"
          ]
        }
      ]
    },
    {
      "cell_type": "code",
      "source": [
        "#3 ques\n",
        "S1= set([10, 20, 30, 40, 50, 60])\n",
        "S2= set([40, 50, 60, 70, 80, 90])\n",
        "\n",
        "print(S1)\n",
        "print(S2)\n",
        "#1\n",
        "S1.add(55)\n",
        "S1.add(66)\n",
        "print(S1)\n",
        "\n",
        "#2\n",
        "S1.remove(10)\n",
        "S1.remove(30)\n",
        "print(S1)\n",
        "\n",
        "#3\n",
        "if 40 in S1:\n",
        "    print(\"40 is present in S1\")\n",
        "else:\n",
        "    print(\"40 is not present in S1\")\n",
        "\n",
        "#4\n",
        "unionset = S1.union(S2)\n",
        "print(unionset)    \n",
        "\n",
        "#5\n",
        "intersectionset = S1.intersection(S2)\n",
        "print(intersectionset)\n",
        "\n",
        "#6\n",
        "differenceset = S1.difference(S2)\n",
        "print(differenceset)\n"
      ],
      "metadata": {
        "colab": {
          "base_uri": "https://localhost:8080/"
        },
        "id": "NOoakZf2bwK3",
        "outputId": "cf7698ee-8f75-43f0-cf28-06c67c47aba8"
      },
      "execution_count": 20,
      "outputs": [
        {
          "output_type": "stream",
          "name": "stdout",
          "text": [
            "{40, 10, 50, 20, 60, 30}\n",
            "{70, 40, 80, 50, 90, 60}\n",
            "{66, 40, 10, 50, 20, 55, 60, 30}\n",
            "{66, 40, 50, 20, 55, 60}\n",
            "40 is present in S1\n",
            "{66, 70, 40, 80, 50, 20, 55, 90, 60}\n",
            "{40, 50, 60}\n",
            "{66, 20, 55}\n"
          ]
        }
      ]
    },
    {
      "cell_type": "code",
      "source": [
        "S1= {10, 20, 30, 40, 50, 60}\n",
        "print(S1)\n",
        "S1 = {10, 20, 30, 40, 50, 60}\n",
        "S1.add(55)\n",
        "S1.add(66)\n",
        "print(S1)"
      ],
      "metadata": {
        "colab": {
          "base_uri": "https://localhost:8080/"
        },
        "id": "tnj7QXhic7bN",
        "outputId": "f4cb5303-f50d-46f1-c0e5-6f164a7d3d68"
      },
      "execution_count": 19,
      "outputs": [
        {
          "output_type": "stream",
          "name": "stdout",
          "text": [
            "{50, 20, 40, 10, 60, 30}\n",
            "{50, 66, 20, 55, 40, 10, 60, 30}\n"
          ]
        }
      ]
    },
    {
      "cell_type": "code",
      "source": [
        "#4 ques\n",
        "import random as r\n",
        "import string\n",
        "\n",
        "for i in range(100):\n",
        "    length = r.randint(6, 8)\n",
        "    random_string = ''.join(r.choices(string.ascii_letters + string.digits, k=length))\n",
        "    print(random_string)\n"
      ],
      "metadata": {
        "colab": {
          "base_uri": "https://localhost:8080/"
        },
        "id": "pCbd8ZwBd8aZ",
        "outputId": "74df9041-ee80-4167-e21e-878c20f16e00"
      },
      "execution_count": 21,
      "outputs": [
        {
          "output_type": "stream",
          "name": "stdout",
          "text": [
            "w8mZHnRj\n",
            "q52iAHNe\n",
            "fha6CH\n",
            "2WJPmWc\n",
            "SnHtMa\n",
            "pURwHkX\n",
            "uyLBsHR7\n",
            "SagIH9\n",
            "ZQB0ZD1j\n",
            "bmHUSwCr\n",
            "PSobCd\n",
            "PNb6fz\n",
            "H3I3LkBK\n",
            "mFpg9vx7\n",
            "I38ubJJL\n",
            "gDOkXtHr\n",
            "fJiwbH\n",
            "0vTx8VmY\n",
            "bRJALJ8\n",
            "SAcHLjJo\n",
            "x30I8viV\n",
            "IuMHO5\n",
            "VUPfZgpd\n",
            "uahE2s\n",
            "W51ryc\n",
            "C14wHjF1\n",
            "hd9ACJ\n",
            "hjgPZBew\n",
            "59O4YaH\n",
            "DYfDu6s4\n",
            "NiSzsjq\n",
            "wQJrQ5a\n",
            "DKdtOm\n",
            "5z53tWs\n",
            "TDVKiAe1\n",
            "j56lXZ\n",
            "WLeWxE\n",
            "d7i9fwU\n",
            "LNLmlM8y\n",
            "k6biGoE\n",
            "GVcsneYM\n",
            "CAGe2J\n",
            "sLjFA2\n",
            "thMbHL\n",
            "py44KM1\n",
            "zEFM2cWC\n",
            "qrpkthn\n",
            "Lk8denp\n",
            "wm82fIGY\n",
            "lT2Vkaw\n",
            "8jdntL\n",
            "0CKsj2\n",
            "88u9bfnm\n",
            "m3yKmx6h\n",
            "eYjRq2\n",
            "KnbFpDou\n",
            "LmrmWszA\n",
            "7C4xeQ\n",
            "2g05FGt\n",
            "x16yXkgd\n",
            "pwk7gnh\n",
            "liKJZH\n",
            "JjbIPw\n",
            "zsefKU\n",
            "KVNyZC\n",
            "UrImidY\n",
            "cgGoL2Lb\n",
            "Ew5cAs1B\n",
            "ffKkGSN\n",
            "ClhbA6bv\n",
            "Zf78KBi\n",
            "efyw8zs\n",
            "F7wB51\n",
            "8iZBEf\n",
            "MVxI1A5\n",
            "XWO0S6\n",
            "E0dGqw\n",
            "r0lckpKQ\n",
            "VNYcm0o\n",
            "cXXzezR\n",
            "xFQUfw\n",
            "J2T9zzkN\n",
            "4Zh3sG9\n",
            "2rUhp5iZ\n",
            "SlbJWwe2\n",
            "owYhEt\n",
            "Inbxzig\n",
            "jtfq4n\n",
            "CaVs0U\n",
            "Isl1CK\n",
            "vG4Eh0W\n",
            "hIg2dCRz\n",
            "RtOKBId\n",
            "8wRYQ1c\n",
            "ja7cH3\n",
            "OlBZEwJ\n",
            "E4GC8CBZ\n",
            "9aYD1x\n",
            "g88CJun8\n",
            "TEAKBJF\n"
          ]
        }
      ]
    },
    {
      "cell_type": "code",
      "source": [
        "def is_prime(num):\n",
        "    if num < 2:\n",
        "        return False\n",
        "    for i in range(2, num//2 + 1):\n",
        "        if num % i == 0:\n",
        "            return False\n",
        "    return True\n",
        "\n",
        "for num in range(600, 801):\n",
        "    if is_prime(num):\n",
        "        print(num,end=' ')\n"
      ],
      "metadata": {
        "colab": {
          "base_uri": "https://localhost:8080/"
        },
        "id": "DlgSyMdnefFX",
        "outputId": "2fa46aa3-9500-47a5-8798-946095f91bb2"
      },
      "execution_count": 23,
      "outputs": [
        {
          "output_type": "stream",
          "name": "stdout",
          "text": [
            "601 607 613 617 619 631 641 643 647 653 659 661 673 677 683 691 701 709 719 727 733 739 743 751 757 761 769 773 787 797 "
          ]
        }
      ]
    },
    {
      "cell_type": "code",
      "source": [
        "for num in range(100, 1001):\n",
        "    if num % 7 == 0 and num % 9 == 0:\n",
        "        print(num,end=' ')\n"
      ],
      "metadata": {
        "colab": {
          "base_uri": "https://localhost:8080/"
        },
        "id": "LK5nKJb5esed",
        "outputId": "cbeddfa3-d558-4caf-fc14-d4588c98a1f1"
      },
      "execution_count": 24,
      "outputs": [
        {
          "output_type": "stream",
          "name": "stdout",
          "text": [
            "126 189 252 315 378 441 504 567 630 693 756 819 882 945 "
          ]
        }
      ]
    },
    {
      "cell_type": "code",
      "source": [
        "#5 ques\n",
        "import random as r\n",
        "\n",
        "# Create two lists of 10 random numbers between 10 and 30\n",
        "L1 = r.sample(range(10, 31), 10)\n",
        "L2 = r.sample(range(10, 31), 10)\n",
        "\n",
        "print(\"List 1:\", L1)\n",
        "print(\"List 2:\", L2)\n",
        "\n",
        "#1\n",
        "common_numbers = list(set(L1).intersection(L2))\n",
        "print(\"Common numbers:\", common_numbers)\n",
        "\n",
        "#2\n",
        "unique_numbers = list(set(L1).difference(L2))\n",
        "print(\"Unique numbers:\", unique_numbers)\n",
        "\n",
        "#2\n",
        "unique_numbers = list(set(L1).symmetric_difference(L2))\n",
        "print(\"Unique numbers:\", unique_numbers)\n",
        "\n",
        "#3\n",
        "min_value = min(min(L1), min(L2))\n",
        "print(\"Minimum value:\", min_value)\n",
        "\n",
        "#4\n",
        "max_value = max(max(L1), max(L2))\n",
        "print(\"Maximum value:\", max_value)\n",
        "\n",
        "#5\n",
        "sum_values = sum(L1) + sum(L2)\n",
        "print(\"Sum of values:\", sum_values)\n"
      ],
      "metadata": {
        "colab": {
          "base_uri": "https://localhost:8080/"
        },
        "id": "oHbbU1dne2Yp",
        "outputId": "1676520f-3d31-4ee9-a023-8fa4c19ec5e7"
      },
      "execution_count": 26,
      "outputs": [
        {
          "output_type": "stream",
          "name": "stdout",
          "text": [
            "List 1: [23, 29, 30, 14, 27, 10, 13, 16, 24, 25]\n",
            "List 2: [14, 15, 16, 23, 22, 20, 24, 21, 28, 10]\n",
            "Common numbers: [10, 14, 16, 23, 24]\n",
            "Unique numbers: [13, 25, 27, 29, 30]\n",
            "Unique numbers: [13, 15, 20, 21, 22, 25, 27, 28, 29, 30]\n",
            "Minimum value: 10\n",
            "Maximum value: 30\n",
            "Sum of values: 404\n"
          ]
        }
      ]
    },
    {
      "cell_type": "code",
      "source": [
        "#6 ques\n",
        "import random as r\n",
        "\n",
        "list = r.sample(range(100, 901), 100)\n",
        "\n",
        "odd = 0\n",
        "even = 0\n",
        "prime = 0\n",
        "\n",
        "oddn = []\n",
        "evenn = []\n",
        "primen = []\n",
        "\n",
        "for num in list:\n",
        "    # for odd\n",
        "    if num % 2 != 0:\n",
        "        odd += 1\n",
        "        oddn.append(num)\n",
        "    # for even\n",
        "    else:\n",
        "        even += 1\n",
        "        evenn.append(num)\n",
        "    \n",
        "    # for prime\n",
        "    if num > 1:\n",
        "        is_prime = True\n",
        "        for i in range(2, num//2 + 1):\n",
        "            if num % i == 0:\n",
        "                is_prime = False\n",
        "                break\n",
        "        if is_prime:\n",
        "            prime += 1\n",
        "            primen.append(num)\n",
        "\n",
        "print(\"Odd numbers:\", oddn)\n",
        "print(\"Even numbers:\", evenn)\n",
        "print(\"Prime numbers:\", primen)\n",
        "\n",
        "print(\"Count of odd numbers:\", odd)\n",
        "print(\"Count of even numbers:\", even)\n",
        "print(\"Count of prime numbers:\", prime)\n"
      ],
      "metadata": {
        "colab": {
          "base_uri": "https://localhost:8080/"
        },
        "id": "gGTEFl7Sh1B6",
        "outputId": "5b72b61c-c6d7-442f-f315-483ae3e1ded9"
      },
      "execution_count": 27,
      "outputs": [
        {
          "output_type": "stream",
          "name": "stdout",
          "text": [
            "Odd numbers: [405, 297, 133, 519, 173, 613, 117, 891, 387, 633, 219, 599, 653, 269, 399, 391, 715, 557, 149, 581, 835, 571, 853, 325, 499, 445, 827, 449, 483, 253, 261, 801, 783, 287, 263, 703, 229, 825, 243, 427, 159]\n",
            "Even numbers: [136, 378, 302, 528, 298, 682, 456, 446, 124, 554, 592, 600, 720, 154, 796, 140, 238, 572, 514, 640, 770, 240, 718, 316, 848, 376, 878, 354, 146, 738, 150, 110, 384, 194, 632, 672, 764, 858, 242, 836, 536, 444, 172, 714, 524, 798, 284, 282, 790, 622, 760, 674, 560, 548, 454, 442, 726, 826, 320]\n",
            "Prime numbers: [173, 613, 599, 653, 269, 557, 149, 571, 853, 499, 827, 449, 263, 229]\n",
            "Count of odd numbers: 41\n",
            "Count of even numbers: 59\n",
            "Count of prime numbers: 14\n"
          ]
        }
      ]
    },
    {
      "cell_type": "code",
      "source": [
        "#7 ques\n",
        "D = {1: \"One\", 2: \"Two\", 3: \"Three\", 4: \"Four\", 5: \"Five\"}\n",
        "\n",
        "fp= open(\"dict.txt\", \"w\")\n",
        "for key, value in D.items():\n",
        "  fp.write(f\"{key}, {value}\\n\")\n",
        "fp.close()\n",
        "print(\"done writing\")"
      ],
      "metadata": {
        "colab": {
          "base_uri": "https://localhost:8080/"
        },
        "id": "zjwW_4zri65b",
        "outputId": "0fb7f27d-58be-436c-9b53-a8806470d61c"
      },
      "execution_count": 29,
      "outputs": [
        {
          "output_type": "stream",
          "name": "stdout",
          "text": [
            "done writing\n"
          ]
        }
      ]
    },
    {
      "cell_type": "code",
      "source": [
        "#8 ques\n",
        "L = [\"One\", \"Two\", \"Three\", \"Four\", \"Five\"]\n",
        "\n",
        "filename= open(\"listt.txt\", \"w\")\n",
        "for item in L:\n",
        "     length = len(item)\n",
        "     filename.write(f\"{item}, {length}\\n\")\n",
        "filename.close()\n"
      ],
      "metadata": {
        "id": "UWU4adZnkas1"
      },
      "execution_count": 30,
      "outputs": []
    },
    {
      "cell_type": "code",
      "source": [
        "#9 ques\n",
        "import random\n",
        "import string\n",
        "\n",
        "def generate_random_string(length):\n",
        "    characters = string.ascii_letters + string.digits\n",
        "    return ''.join(random.choice(characters)\n",
        "     for i in range(length))\n",
        "\n",
        "with open(\"output.txt\", \"w\") as file:\n",
        "    for n in range(100):\n",
        "        length = random.randint(10, 15)\n",
        "        random_string = generate_random_string(length)\n",
        "        file.write(f\"{random_string}\\n\")\n"
      ],
      "metadata": {
        "id": "SSpAKwz0mNqQ"
      },
      "execution_count": 35,
      "outputs": []
    },
    {
      "cell_type": "code",
      "source": [
        "#10 ques\n",
        "def is_prime(num):\n",
        "    if num < 2:\n",
        "        return False\n",
        "    for i in range(2, num//2 + 1):\n",
        "        if num % i == 0:\n",
        "            return 0\n",
        "    return 1\n",
        "\n",
        "fp= open(\"prime.txt\", \"w\")\n",
        "for num in range(600, 801):\n",
        "        if is_prime(num):\n",
        "            fp.write(f\"{num}\\n\")\n",
        "fp.close()\n"
      ],
      "metadata": {
        "id": "3nfKsCfzmlnp"
      },
      "execution_count": 36,
      "outputs": []
    },
    {
      "cell_type": "code",
      "source": [
        "#11 ques curr time after and before execution\n",
        "#starting time - when code has executed\n",
        "import time\n",
        "\n",
        "# Start\n",
        "start_time = time.time()\n",
        "\n",
        "# End \n",
        "end_time = time.time()\n",
        "\n",
        "elapsed_time = end_time - start_time\n",
        "\n",
        "print(\"Time taken:\", elapsed_time, \"seconds\")\n"
      ],
      "metadata": {
        "colab": {
          "base_uri": "https://localhost:8080/"
        },
        "id": "jCRL1kG0nJV7",
        "outputId": "7611d597-c1c3-431b-88c7-8702de39ba84"
      },
      "execution_count": 37,
      "outputs": [
        {
          "output_type": "stream",
          "name": "stdout",
          "text": [
            "Time taken: 2.09808349609375e-05 seconds\n"
          ]
        }
      ]
    },
    {
      "cell_type": "code",
      "source": [
        "import time\n",
        "import matplotlib.pyplot as plt      #for graph plotting\n",
        "import random\n",
        "\n",
        "def sort_list(elements):\n",
        "    numbers = [random.randint(1, 1000) for _ in range(elements)]\n",
        "\n",
        "    start_time = time.time()\n",
        "    \n",
        "    numbers.sort()\n",
        "\n",
        "    end_time = time.time()\n",
        "\n",
        "    elapsed_time = end_time - start_tiime\n",
        "    return elapsed_time\n",
        "num_elements = [5000, 10000, 15000, 20000, 25000]\n",
        "\n",
        "time_taken = []\n",
        "\n",
        "# Measure the time taken for sorting each number of elements\n",
        "for num in num_elements:\n",
        "    elapsed_time = sort_list(num)\n",
        "    time_taken.append(elapsed_time)\n",
        "\n",
        "# Plotting the graph\n",
        "plt.plot(num_elements, time_taken, marker='o')\n",
        "plt.xlabel('Number of Elements')\n",
        "plt.ylabel('Time Taken (seconds)')\n",
        "plt.title('Sorting Time vs. Number of Elements')\n",
        "plt.show()\n"
      ],
      "metadata": {
        "colab": {
          "base_uri": "https://localhost:8080/",
          "height": 472
        },
        "id": "VovZitAso5v9",
        "outputId": "73e0bb5e-94b5-424c-9c28-a79056917233"
      },
      "execution_count": 39,
      "outputs": [
        {
          "output_type": "display_data",
          "data": {
            "text/plain": [
              "<Figure size 640x480 with 1 Axes>"
            ],
            "image/png": "[encoded data removed]"
          },
          "metadata": {}
        }
      ]
    },
    {
      "cell_type": "code",
      "source": [
        "#13 ques\n",
        "student_marks = {\n",
        "    'Manav': [90, 85, 92, 88, 95],\n",
        "    'Rashi': [78, 92, 80, 85, 88],\n",
        "    'Milli': [95, 87, 92, 78, 90],\n",
        "    'Sourav': [88, 90, 85, 92, 80],\n",
        "    'Ruhi': [82, 92, 88, 90, 85]\n",
        "}\n",
        "\n",
        "average_marks = {student: sum(marks) / len(marks) for student, marks in student_marks.items()}\n",
        "\n",
        "max_student = max(average_marks, key=average_marks.get)\n",
        "max_average_marks = average_marks[max_student]\n",
        "\n",
        "min_student = min(average_marks, key=average_marks.get)\n",
        "min_average_marks = average_marks[min_student]\n",
        "\n",
        "print(\"Student with maximum average marks:\")\n",
        "print(f\"Student: {max_student}\")\n",
        "print(f\"Average Marks: {max_average_marks}\")\n",
        "print()\n",
        "print(\"Student with minimum average marks:\")\n",
        "print(f\"Student: {min_student}\")\n",
        "print(f\"Average Marks: {min_average_marks}\")\n"
      ],
      "metadata": {
        "colab": {
          "base_uri": "https://localhost:8080/"
        },
        "id": "xdyZB9Amv3-8",
        "outputId": "9bc06220-58cb-42ed-a59a-01dafd140e34"
      },
      "execution_count": 40,
      "outputs": [
        {
          "output_type": "stream",
          "name": "stdout",
          "text": [
            "Student with maximum average marks:\n",
            "Student: Manav\n",
            "Average Marks: 90.0\n",
            "\n",
            "Student with minimum average marks:\n",
            "Student: Rashi\n",
            "Average Marks: 84.6\n"
          ]
        }
      ]
    }
  ]
}